{
 "cells": [
  {
   "cell_type": "code",
   "execution_count": null,
   "metadata": {},
   "outputs": [],
   "source": [
    "\n"
   ]
  },
  {
   "cell_type": "code",
   "execution_count": 3,
   "metadata": {},
   "outputs": [],
   "source": [
    "import pandas as pd\n",
    "from sklearn.linear_model import LinearRegression\n",
    "from sklearn.metrics import mean_squared_error, r2_score\n",
    "import pandas as pd\n",
    "import scipy\n",
    "\n",
    "import numpy as np\n",
    "from sklearn.preprocessing import MinMaxScaler\n",
    "import seaborn as sns\n",
    "import matplotlib.pyplot as plt\n",
    "from sklearn.metrics import accuracy_score\n"
   ]
  },
  {
   "cell_type": "code",
   "execution_count": null,
   "metadata": {},
   "outputs": [],
   "source": []
  },
  {
   "cell_type": "code",
   "execution_count": 4,
   "metadata": {},
   "outputs": [
    {
     "name": "stdout",
     "output_type": "stream",
     "text": [
      "Variable                      Predicted Value\n",
      "---------------------------------------------\n",
      "HO Failures                   0.011\n",
      "PRB Util%                     29.268\n",
      "HQ_EXE_TOTARGET_FAILURE_QCI_1 0.006\n",
      "DL Packet Loss Pct            0.132\n",
      "Bearer Drop Voice%            0.026\n",
      "Bearer Drops                  0.377\n",
      "RRC Setup Failures            1.903\n",
      "HO_fail_InterFreq             0.046\n",
      "Combined RACH Failure%        0.048\n",
      "Avg CQI                       9.197\n",
      "QCI 1 Bearer Drop%            0.026\n",
      "ERAB Setup Fail%              0.006\n",
      "HO Failure%                   0.002\n",
      "Bearer Drop%                  0.003\n"
     ]
    }
   ],
   "source": [
    "df = pd.read_csv('data-model-1.csv')\n",
    "pd.set_option('display.max_rows', None)\n",
    "pd.set_option('display.max_columns', None)\n",
    "df = df.drop(['Unnamed: 0'], axis =1)\n",
    "df=df.drop(['Bearer Setup Failure Voice%','TIMESTAMP'],axis=1)\n",
    "lst = df.columns.to_list()\n",
    "lst.remove('Avg_Connected_UEs')\n",
    "len(lst)\n",
    "\n",
    "data =df\n",
    "mse_scores = {}\n",
    "r2_scores = {}\n",
    "predicted_values={}\n",
    "actual_values={}\n",
    "# Load your dataset into 'data'\n",
    "\n",
    "# Prompt the user to enter the value of Avg_Connected_UEs\n",
    "avg_connected_ue_value = float(input(\"Enter the value of Avg_Connected_UEs (between 16.1 to 84.5): \"))\n",
    "\n",
    "# if(avg_connected_ue_value <=16.1 & avg_connected_ue_value>=84.5):\n",
    "#     continue\n",
    "# else:\n",
    "#     print(\"Enter the 'avg_connected_ue_value' in range\")\n",
    "\n",
    "# List of dependent variable column names\n",
    "dependent_variables = lst\n",
    "\n",
    "# Dictionary to store predicted values for each dependent variable\n",
    "results = {}\n",
    "\n",
    "# Iterate through dependent variables and perform Linear Regression\n",
    "for dependent_variable in dependent_variables:\n",
    "    # Define the current dependent variable\n",
    "    y = data[dependent_variable]  # Dependent variable\n",
    "\n",
    "    # Prepare the input data for prediction\n",
    "    X = pd.DataFrame({'Avg_Connected_UEs': [avg_connected_ue_value]})\n",
    "\n",
    "    # Initialize the Linear Regression model\n",
    "    linear_regressor = LinearRegression()\n",
    "\n",
    "    # Train the model with the entire dataset\n",
    "    linear_regressor.fit(data[['Avg_Connected_UEs']], y)\n",
    "\n",
    "    # Predictions for the input 'Avg_Connected_UEs' value\n",
    "    predicted_value = linear_regressor.predict(X)\n",
    "\n",
    "    # Store results in the dictionary\n",
    "    results[dependent_variable] = predicted_value[0]\n",
    "\n",
    "# Print predicted values for all dependent variables\n",
    "print(f\"{'Variable':<30}{'Predicted Value'}\")\n",
    "print('-' * 45)\n",
    "\n",
    "for variable, predicted_value in results.items():\n",
    "    print(f\"{variable:<30}{predicted_value:.3f}\")\n"
   ]
  },
  {
   "cell_type": "code",
   "execution_count": 5,
   "metadata": {},
   "outputs": [
    {
     "name": "stdout",
     "output_type": "stream",
     "text": [
      "{'HO Failures': 0.010624227490570721, 'PRB Util%': 29.26820588946743, 'HQ_EXE_TOTARGET_FAILURE_QCI_1': 0.006171782101805151, 'DL Packet Loss Pct': 0.13186367743321525, 'Bearer Drop Voice%': 0.026094950430058942, 'Bearer Drops': 0.3765152812900907, 'RRC Setup Failures': 1.9033493952855087, 'HO_fail_InterFreq': 0.04617234026975062, 'Combined RACH Failure%': 0.048246925096386443, 'Avg CQI': 9.197093639534405, 'QCI 1 Bearer Drop%': 0.026094950430058942, 'ERAB Setup Fail%': 0.0057034208222784336, 'HO Failure%': 0.0024533962457582723, 'Bearer Drop%': 0.003395234038211679}\n"
     ]
    }
   ],
   "source": [
    "print(results)"
   ]
  }
 ],
 "metadata": {
  "kernelspec": {
   "display_name": "Python 3",
   "language": "python",
   "name": "python3"
  },
  "language_info": {
   "codemirror_mode": {
    "name": "ipython",
    "version": 3
   },
   "file_extension": ".py",
   "mimetype": "text/x-python",
   "name": "python",
   "nbconvert_exporter": "python",
   "pygments_lexer": "ipython3",
   "version": "3.11.0"
  }
 },
 "nbformat": 4,
 "nbformat_minor": 2
}
